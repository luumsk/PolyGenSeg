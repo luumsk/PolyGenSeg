{
  "nbformat": 4,
  "nbformat_minor": 0,
  "metadata": {
    "colab": {
      "provenance": [],
      "gpuType": "T4"
    },
    "kernelspec": {
      "name": "python3",
      "display_name": "Python 3"
    },
    "language_info": {
      "name": "python"
    },
    "accelerator": "GPU"
  },
  "cells": [
    {
      "cell_type": "code",
      "execution_count": null,
      "metadata": {
        "colab": {
          "base_uri": "https://localhost:8080/"
        },
        "id": "NeIcOz2EP1PD",
        "outputId": "09f3cae5-e5bb-4acc-ab16-a641cf1105f0"
      },
      "outputs": [
        {
          "output_type": "stream",
          "name": "stdout",
          "text": [
            "/content/drive/MyDrive/CV02/polyp_dataset_project09\n"
          ]
        }
      ],
      "source": [
        "%cd /content/drive/MyDrive/CV02/polyp_dataset_project09"
      ]
    },
    {
      "cell_type": "code",
      "source": [
        "# IMPORT LIBRARIES\n",
        "import os\n",
        "import random\n",
        "import json\n",
        "import logging\n",
        "\n",
        "import numpy as np\n",
        "from tqdm import tqdm\n",
        "from PIL import Image\n",
        "from sklearn.model_selection import KFold, train_test_split\n",
        "import matplotlib.pyplot as plt\n",
        "\n",
        "import torch\n",
        "import torch.nn as nn\n",
        "import torch.optim as optim\n",
        "from torch.utils.data import Dataset, DataLoader, Subset\n",
        "from torchvision import transforms\n",
        "from torchvision.io import read_image\n",
        "from torchvision.transforms import functional as F\n",
        "from torchvision.models.segmentation import deeplabv3_resnet101\n",
        "from torch.optim.lr_scheduler import ReduceLROnPlateau\n",
        "\n",
        "try:\n",
        "    from torchmetrics import Dice\n",
        "except ModuleNotFoundError:\n",
        "    !pip install -q torchmetrics\n",
        "    from torchmetrics import Dice\n",
        "\n",
        "def set_seed(seed):\n",
        "    random.seed(seed)\n",
        "    np.random.seed(seed)\n",
        "    torch.manual_seed(seed)\n",
        "    torch.cuda.manual_seed(seed)\n",
        "    torch.cuda.manual_seed_all(seed)\n",
        "    torch.backends.cudnn.deterministic = True\n",
        "    torch.backends.cudnn.benchmark = False\n",
        "\n",
        "# Set all relevant seeds to 2024\n",
        "set_seed(2024)"
      ],
      "metadata": {
        "id": "pe9ArrBCRZci"
      },
      "execution_count": null,
      "outputs": []
    },
    {
      "cell_type": "code",
      "source": [
        "# CONFIGUREATION\n",
        "\n",
        "# CONSTANTS\n",
        "RANDOM_STATE  = 2024\n",
        "BATCH_SIZE    = 128\n",
        "NUM_WORKERS   = 2\n",
        "PIN_MEMORY    = True\n",
        "TEST_SIZE     = 0.2\n",
        "LEARNING_RATE = 0.001\n",
        "NUM_EPOCHS    = 200\n",
        "IMAGE_SIZE    = 128\n",
        "\n",
        "# PATHS\n",
        "ROOT            = '/content/drive/MyDrive/CV02/polyp_dataset_project09'\n",
        "BEST_MODEL_PATH = os.path.join(ROOT, 'models', 'unet_realgen.pth')\n",
        "IMAGE_DIR       = os.path.join(ROOT, 'images')\n",
        "GEN_DIR         = os.path.join(ROOT, 'generated')\n",
        "GEN_IMAGE_DIR   = os.path.join(GEN_DIR, 'images')\n",
        "GEN_MASK_DIR    = os.path.join(GEN_DIR, 'images-mask')\n",
        "OUTPUT_DIR      = os.path.join(ROOT, 'seg_output')\n",
        "TRAIN_JSON      = os.path.join(ROOT, 'polyp_train.json')\n",
        "VAL_JSON        = os.path.join(ROOT, 'polyp_valid.json')\n",
        "TEST_JSON       = os.path.join(ROOT, 'polyp_test.json')\n",
        "\n",
        "# LOGGING\n",
        "log_filepath = os.path.join(ROOT, 'train.log')\n",
        "logging.basicConfig(\n",
        "    filename='train.log',\n",
        "    encoding='utf-8',\n",
        "    format='%(levelname)s:%(message)s',\n",
        "    level=logging.DEBUG\n",
        ")\n",
        "\n",
        "# VARIABLES\n",
        "device = torch.device('cuda' if torch.cuda.is_available() else 'cpu')\n",
        "print(f'Using {device} device...')"
      ],
      "metadata": {
        "colab": {
          "base_uri": "https://localhost:8080/"
        },
        "id": "sWr4O1TiJ-NR",
        "outputId": "6c6ff12e-0b0e-407b-e74f-058dd2c190ca"
      },
      "execution_count": null,
      "outputs": [
        {
          "output_type": "stream",
          "name": "stdout",
          "text": [
            "Using cuda device...\n"
          ]
        }
      ]
    },
    {
      "cell_type": "code",
      "source": [
        "# for fn in os.listdir(GEN_IMAGE_DIR):\n",
        "#     path = os.path.join(GEN_IMAGE_DIR, fn)\n",
        "#     new_path = os.path.join(GEN_IMAGE_DIR, fn.replace('_img', ''))\n",
        "#     os.rename(path, new_path)\n",
        "\n",
        "# for fn in os.listdir(GEN_MASK_DIR):\n",
        "#     path = os.path.join(GEN_MASK_DIR, fn)\n",
        "#     new_path = os.path.join(GEN_MASK_DIR, fn.replace('_mask', ''))\n",
        "#     os.rename(path, new_path)"
      ],
      "metadata": {
        "id": "Kx6Nrco1DQA7"
      },
      "execution_count": null,
      "outputs": []
    },
    {
      "cell_type": "code",
      "source": [
        "def load_json(path):\n",
        "    data = None\n",
        "    with open(path, 'r') as f:\n",
        "        data = json.load(f)\n",
        "    return data\n",
        "\n",
        "def get_full_path(path):\n",
        "    path = path.replace('./', '')\n",
        "    return os.path.join(ROOT, path)\n",
        "\n",
        "# Get all generated image paths\n",
        "gen_image_paths = [\n",
        "    os.path.join(GEN_IMAGE_DIR, fn) for fn in os.listdir(GEN_IMAGE_DIR)\n",
        "]\n",
        "\n",
        "# Concatenate generated image paths with real image paths for training\n",
        "polyp_train = load_json(TRAIN_JSON)['images']\n",
        "train_image_paths = [get_full_path(item['image_path']) for item in polyp_train]\n",
        "#train_image_paths.extend(gen_image_paths)\n",
        "print(f'{len(train_image_paths)} train images.')\n",
        "\n",
        "# Get real image paths for validation\n",
        "polyp_val = load_json(VAL_JSON)['images']\n",
        "val_image_paths = [get_full_path(item['image_path']) for item in polyp_val]\n",
        "print(f'{len(val_image_paths)} val images.')\n",
        "\n",
        "# Get real image paths for testing\n",
        "polyp_test = load_json(TEST_JSON)['images']\n",
        "test_image_paths = [get_full_path(item['image_path']) for item in polyp_test]\n",
        "print(f'{len(test_image_paths)} test images.')\n",
        "\n",
        "test_image_paths[0]"
      ],
      "metadata": {
        "id": "G_mIf82BP-DJ",
        "colab": {
          "base_uri": "https://localhost:8080/",
          "height": 87
        },
        "outputId": "8d66a64d-d230-48cb-d47d-fc46831763c0"
      },
      "execution_count": null,
      "outputs": [
        {
          "output_type": "stream",
          "name": "stdout",
          "text": [
            "1200 train images.\n",
            "400 val images.\n",
            "400 test images.\n"
          ]
        },
        {
          "output_type": "execute_result",
          "data": {
            "text/plain": [
              "'/content/drive/MyDrive/CV02/polyp_dataset_project09/images/NeoPolyp-Small/00fd197cd955fa095f978455cef3593c.jpg'"
            ],
            "application/vnd.google.colaboratory.intrinsic+json": {
              "type": "string"
            }
          },
          "metadata": {},
          "execution_count": 81
        }
      ]
    },
    {
      "cell_type": "code",
      "source": [
        "def convert_to_mask_path(image_path):\n",
        "    #mask_path = image_path.replace('img', 'mask')\n",
        "    mask_path = image_path.replace('/images/', '/images-mask/')\n",
        "    if os.path.isfile(mask_path):\n",
        "        return mask_path\n",
        "    else:\n",
        "        raise ValueError(f'Mask path not found. {mask_path}')\n",
        "\n",
        "print(train_image_paths[-1])\n",
        "print(convert_to_mask_path(train_image_paths[-1]))"
      ],
      "metadata": {
        "colab": {
          "base_uri": "https://localhost:8080/"
        },
        "id": "hghDR2BjTtUa",
        "outputId": "07f03db7-faad-4f58-98fa-a1572d752c4c"
      },
      "execution_count": null,
      "outputs": [
        {
          "output_type": "stream",
          "name": "stdout",
          "text": [
            "/content/drive/MyDrive/CV02/polyp_dataset_project09/images/CVC-ColonDB/234.jpg\n",
            "/content/drive/MyDrive/CV02/polyp_dataset_project09/images-mask/CVC-ColonDB/234.jpg\n"
          ]
        }
      ]
    },
    {
      "cell_type": "code",
      "source": [
        "class GeneratedPoLypDataset(Dataset):\n",
        "    def __init__(self, image_paths):\n",
        "        self.image_paths = sorted(image_paths)\n",
        "        self.len = len(self.image_paths)\n",
        "\n",
        "    def __len__(self):\n",
        "        return self.len\n",
        "\n",
        "    def __getitem__(self, idx):\n",
        "        # Load image\n",
        "        image_path = self.image_paths[idx]\n",
        "        image = read_image(image_path)\n",
        "\n",
        "        # Load mask\n",
        "        mask_path = convert_to_mask_path(image_path)\n",
        "        mask = read_image(mask_path)\n",
        "\n",
        "        # Resize image and mask\n",
        "        image = F.resize(image, (IMAGE_SIZE, IMAGE_SIZE))\n",
        "        mask  = F.resize(mask, (IMAGE_SIZE, IMAGE_SIZE))\n",
        "\n",
        "        # The generated image has 4 channels\n",
        "        # 3 first channels are RGB, the last is a black background\n",
        "        # Return only 1 channel of image\n",
        "        if image.shape[0] > 3:\n",
        "            image = image[:3,...]\n",
        "\n",
        "        # The generated mask has 4 channels\n",
        "        # The first 3 channels are binary mask, the last is a black background\n",
        "        # Return only 1 channel of mask\n",
        "        if mask.shape[0] > 1:\n",
        "            mask = mask[0,...]\n",
        "\n",
        "        # Normalize image and mask\n",
        "        #image = self.normalize(image)\n",
        "        mask  = mask / 255.0\n",
        "\n",
        "        return image.float(), mask.int()"
      ],
      "metadata": {
        "id": "qnrO8BEVWRZ_"
      },
      "execution_count": null,
      "outputs": []
    },
    {
      "cell_type": "code",
      "source": [
        "def plot_image_with_mask(image, mask):\n",
        "    image = image.permute(1, 2, 0)\n",
        "    fig, ax = plt.subplots(figsize=(8, 8))\n",
        "\n",
        "    # Plot the image\n",
        "    ax.imshow(image)\n",
        "\n",
        "    # Create a mask where mask > 0\n",
        "    mask_rgb = np.zeros_like(image)  # Initialize an array of zeros with the same shape as the image\n",
        "    mask_rgb[mask > 0] = [1, 0, 0]  # Set mask values greater than 0 to red [R, G, B]\n",
        "\n",
        "    # Overlay the mask\n",
        "    ax.imshow(mask_rgb, alpha=0.4)  # Red mask overlay\n",
        "\n",
        "    ax.axis('off')\n",
        "    plt.show()\n",
        "\n",
        "\n",
        "train_dataset = GeneratedPoLypDataset(train_image_paths)\n",
        "image, mask = train_dataset[-1]\n",
        "image = image / 255.0\n",
        "print(f'Image shape: {image.shape}')\n",
        "print(f'Image min value: {image.min().item()}')\n",
        "print(f'Image max value: {image.max().item()}')\n",
        "print(f'Mask shape: {mask.shape}')\n",
        "print(f'Mask min value: {mask.min().item()}')\n",
        "print(f'Mask max value: {mask.max().item()}')\n",
        "\n",
        "\n",
        "# Plot image with mask overlay\n",
        "plot_image_with_mask(image, mask)"
      ],
      "metadata": {
        "colab": {
          "base_uri": "https://localhost:8080/",
          "height": 757
        },
        "id": "abCbhr0Ra6i2",
        "outputId": "bcfe3893-eba1-465a-a625-1829aa98bd0f"
      },
      "execution_count": null,
      "outputs": [
        {
          "output_type": "stream",
          "name": "stdout",
          "text": [
            "Image shape: torch.Size([3, 128, 128])\n",
            "Image min value: 0.0\n",
            "Image max value: 0.9960784316062927\n",
            "Mask shape: torch.Size([128, 128])\n",
            "Mask min value: 0\n",
            "Mask max value: 1\n"
          ]
        },
        {
          "output_type": "display_data",
          "data": {
            "text/plain": [
              "<Figure size 800x800 with 1 Axes>"
            ],
            "image/png": "[encoded data removed]"
          },
          "metadata": {}
        }
      ]
    },
    {
      "cell_type": "code",
      "source": [
        "class DiceLoss(nn.Module):\n",
        "    def __init__(self):\n",
        "        super(DiceLoss, self).__init__()\n",
        "\n",
        "    def forward(self, inputs, targets):\n",
        "        smooth = 1e-6\n",
        "        #inputs = torch.sigmoid(inputs)\n",
        "        intersection = (inputs * targets).sum()\n",
        "        dice = (2. * intersection + smooth) / (inputs.sum() + targets.sum() + smooth)\n",
        "        return 1 - dice\n",
        "\n",
        "def train_epoch(model, dataloader, optimizer, criterion, device):\n",
        "    model.train()\n",
        "    running_loss = 0.0\n",
        "    dice = Dice().to(device)\n",
        "\n",
        "    for images, masks in tqdm(dataloader, desc=\"Training\", leave=False):\n",
        "        images, masks = images.to(device), masks.to(device)\n",
        "\n",
        "        optimizer.zero_grad()\n",
        "\n",
        "        outputs = model(images)\n",
        "        loss = criterion(outputs.squeeze(), masks.float())\n",
        "        loss.backward()\n",
        "        optimizer.step()\n",
        "\n",
        "        running_loss += loss.item()\n",
        "        dice.update(outputs, masks)\n",
        "\n",
        "    epoch_loss = running_loss / len(dataloader.dataset)\n",
        "    epoch_dice = dice.compute()\n",
        "\n",
        "    return epoch_loss, epoch_dice.item()\n",
        "\n",
        "def validate_epoch(model, dataloader, criterion, device):\n",
        "    model.eval()\n",
        "    running_loss = 0.0\n",
        "    dice = Dice().to(device)\n",
        "\n",
        "    with torch.no_grad():\n",
        "        for images, masks in tqdm(dataloader, desc=\"Validation\", leave=False):\n",
        "            images, masks = images.to(device), masks.to(device)\n",
        "\n",
        "            outputs = model(images)\n",
        "            loss = criterion(outputs.squeeze(), masks.float())\n",
        "\n",
        "            running_loss += loss.item()\n",
        "            dice.update(outputs, masks)\n",
        "\n",
        "    epoch_loss = running_loss / len(dataloader.dataset)\n",
        "    epoch_dice = dice.compute()\n",
        "\n",
        "    return epoch_loss, epoch_dice.item()\n",
        "\n",
        "def do_one_epoch(\n",
        "        model,\n",
        "        train_dataloader,\n",
        "        val_dataloader,\n",
        "        optimizer,\n",
        "        criterion,\n",
        "        device,\n",
        "        scheduler=None):\n",
        "\n",
        "    # Train\n",
        "    epoch_train_loss, epoch_train_dice = train_epoch(\n",
        "        model=model,\n",
        "        dataloader=train_dataloader,\n",
        "        optimizer=optimizer,\n",
        "        criterion=criterion,\n",
        "        device=device\n",
        "    )\n",
        "    print(f'Train loss: {epoch_train_loss:.4f}, train dice: {epoch_train_dice:.4f}')\n",
        "\n",
        "    # Validate\n",
        "    epoch_val_loss, epoch_val_dice = validate_epoch(\n",
        "        model=model,\n",
        "        dataloader=val_dataloader,\n",
        "        criterion=criterion,\n",
        "        device=device,\n",
        "    )\n",
        "    print(f'Val loss  : {epoch_val_loss:.4f}, val dice: {epoch_val_dice:.4f}')\n",
        "\n",
        "    # Update learning rate scheduler\n",
        "    if scheduler is not None:\n",
        "        scheduler.step(epoch_val_loss)\n",
        "\n",
        "    # Return losses and metrics of this epoch\n",
        "    return {\n",
        "        'epoch_train_loss': epoch_train_loss,\n",
        "        'epoch_train_dice': epoch_train_dice,\n",
        "        'epoch_val_loss'  : epoch_val_loss,\n",
        "        'epoch_val_dice'  : epoch_val_dice,\n",
        "    }\n",
        "\n",
        "def test(image_paths, model, device):\n",
        "    # Dataset\n",
        "    test_dataset = GeneratedPoLypDataset(image_paths)\n",
        "\n",
        "    # Dataloader\n",
        "    test_dataloader = DataLoader(\n",
        "        dataset=test_dataset,\n",
        "        batch_size=BATCH_SIZE,\n",
        "        shuffle=False,\n",
        "        num_workers=NUM_WORKERS,\n",
        "        pin_memory=PIN_MEMORY\n",
        "    )\n",
        "    print(f'{len(test_dataset)} test images.')\n",
        "\n",
        "    # Loss function\n",
        "    criterion = DiceLoss()\n",
        "\n",
        "    model.to(device)\n",
        "\n",
        "    # Loss and metric\n",
        "    test_loss, test_dice = validate_epoch(\n",
        "        model=model,\n",
        "        dataloader=test_dataloader,\n",
        "        criterion=criterion,\n",
        "        device=device,\n",
        "    )\n",
        "\n",
        "    print(f'Test loss: {test_loss:.4f}')\n",
        "    print(f'Test dice: {test_dice:.4f}')"
      ],
      "metadata": {
        "id": "1V1oOWMPMpDg"
      },
      "execution_count": null,
      "outputs": []
    },
    {
      "cell_type": "code",
      "source": [
        "# model\n",
        "\n",
        "class unetConv2(nn.Module):\n",
        "    def __init__(self, in_size, out_size, is_batchnorm):\n",
        "        super(unetConv2, self).__init__()\n",
        "\n",
        "        if is_batchnorm:\n",
        "            self.conv1 = nn.Sequential(\n",
        "                nn.Conv2d(in_size, out_size, 3, 1, 1),\n",
        "                nn.BatchNorm2d(out_size),\n",
        "                nn.ReLU(),\n",
        "            )\n",
        "            self.conv2 = nn.Sequential(\n",
        "                nn.Conv2d(out_size, out_size, 3, 1, 1),\n",
        "                nn.BatchNorm2d(out_size),\n",
        "                nn.ReLU(),\n",
        "            )\n",
        "        else:\n",
        "            self.conv1 = nn.Sequential(nn.Conv2d(in_size, out_size, 3, 1, 1), nn.ReLU())\n",
        "            self.conv2 = nn.Sequential(\n",
        "                nn.Conv2d(out_size, out_size, 3, 1, 1), nn.ReLU()\n",
        "            )\n",
        "\n",
        "    def forward(self, inputs):\n",
        "        outputs = self.conv1(inputs)\n",
        "        #print (outputs.shape)\n",
        "        outputs = self.conv2(outputs)\n",
        "        #print (outputs.shape)\n",
        "        return outputs\n",
        "\n",
        "class unetUp(nn.Module):\n",
        "    def __init__(self, in_size, out_size, is_deconv, is_batchnorm):\n",
        "        super(unetUp, self).__init__()\n",
        "        self.conv = unetConv2(in_size, out_size, is_batchnorm)\n",
        "\n",
        "        if is_deconv:\n",
        "            self.up = nn.ConvTranspose2d(in_size, out_size, kernel_size=2, stride=2)\n",
        "        else:\n",
        "            self.up = nn.UpsamplingBilinear2d(scale_factor=2)\n",
        "\n",
        "    def forward(self, inputs1, inputs2):\n",
        "        outputs2 = self.up(inputs2)\n",
        "        offset = outputs2.size()[2] - inputs1.size()[2]\n",
        "        padding = 2 * [offset // 2, offset // 2]\n",
        "        outputs1 = F.pad(inputs1, padding)\n",
        "\n",
        "        return self.conv(torch.cat([outputs1, outputs2], 1))\n",
        "\n",
        "class UnetSegmentationModel(nn.Module):\n",
        "    def __init__(self,in_channels, num_classes):\n",
        "        super().__init__()\n",
        "\n",
        "        self.in_channels=in_channels\n",
        "        self.num_classes=num_classes\n",
        "\n",
        "        #Some config for UNET model\n",
        "        self.is_batchnorm = True\n",
        "        self.feature_scale=2\n",
        "        self.is_deconv = True #Sử dụng Deconvolution hay Upsample layer\n",
        "        filters = [64, 128, 256, 512, 1024]\n",
        "        filters = [int(x / self.feature_scale) for x in filters]\n",
        "\n",
        "        #DEFINE UNET MODEL\n",
        "        # downsampling\n",
        "        self.conv1 = unetConv2(self.in_channels, filters[0], self.is_batchnorm)\n",
        "        self.maxpool1 = nn.MaxPool2d(kernel_size=2)\n",
        "\n",
        "        self.conv2 = unetConv2(filters[0], filters[1], self.is_batchnorm)\n",
        "        self.maxpool2 = nn.MaxPool2d(kernel_size=2)\n",
        "\n",
        "        self.conv3 = unetConv2(filters[1], filters[2], self.is_batchnorm)\n",
        "        self.maxpool3 = nn.MaxPool2d(kernel_size=2)\n",
        "\n",
        "        self.conv4 = unetConv2(filters[2], filters[3], self.is_batchnorm)\n",
        "        self.maxpool4 = nn.MaxPool2d(kernel_size=2)\n",
        "\n",
        "        self.center = unetConv2(filters[3], filters[4], self.is_batchnorm)\n",
        "\n",
        "        # upsampling\n",
        "        self.up_concat4 = unetUp(filters[4], filters[3], self.is_deconv, self.is_batchnorm)\n",
        "        self.up_concat3 = unetUp(filters[3], filters[2], self.is_deconv, self.is_batchnorm)\n",
        "        self.up_concat2 = unetUp(filters[2], filters[1], self.is_deconv, self.is_batchnorm)\n",
        "        self.up_concat1 = unetUp(filters[1], filters[0], self.is_deconv, self.is_batchnorm)\n",
        "\n",
        "        # final conv (without any concat)\n",
        "        self.final = nn.Conv2d(filters[0], self.num_classes, 1)\n",
        "\n",
        "    def forward(self, inputs):\n",
        "        conv1 = self.conv1(inputs)\n",
        "        maxpool1 = self.maxpool1(conv1)\n",
        "\n",
        "        conv2 = self.conv2(maxpool1)\n",
        "        maxpool2 = self.maxpool2(conv2)\n",
        "\n",
        "        conv3 = self.conv3(maxpool2)\n",
        "        maxpool3 = self.maxpool3(conv3)\n",
        "\n",
        "        conv4 = self.conv4(maxpool3)\n",
        "        maxpool4 = self.maxpool4(conv4)\n",
        "\n",
        "        center = self.center(maxpool4)\n",
        "\n",
        "        up4 = self.up_concat4(conv4, center)\n",
        "        up3 = self.up_concat3(conv3, up4)\n",
        "        up2 = self.up_concat2(conv2, up3)\n",
        "        up1 = self.up_concat1(conv1, up2)\n",
        "\n",
        "        final = nn.functional.sigmoid(self.final(up1))\n",
        "\n",
        "        return final"
      ],
      "metadata": {
        "id": "Ihzs254seLw6"
      },
      "execution_count": null,
      "outputs": []
    },
    {
      "cell_type": "code",
      "source": [
        "def train(train_image_paths, val_image_paths, model, num_epochs, state_dict=None):\n",
        "\n",
        "    counter     = 0\n",
        "    patience    = 20\n",
        "\n",
        "    if state_dict is None:\n",
        "        print('Training from scratch...')\n",
        "        best_loss   = np.Inf\n",
        "        best_dice   = 0.5\n",
        "        start_epoch = 0\n",
        "    else:\n",
        "        print('Continue training...')\n",
        "        best_loss = state_dict.get('epoch_val_loss')\n",
        "        best_dice = state_dict.get('epoch_val_dice')\n",
        "        start_epoch = state_dict.get('epoch')\n",
        "        model.load_state_dict(state_dict.get('model_state_dict'))\n",
        "\n",
        "    # Send model to GPU\n",
        "    model.to(device)\n",
        "\n",
        "    # Scores of the training and validation\n",
        "    scores = {\n",
        "        'train_loss' : [],\n",
        "        'train_dice' : [],\n",
        "        'val_loss'   : [],\n",
        "        'val_dice'   : [],\n",
        "    }\n",
        "\n",
        "    # Dataloaders\n",
        "    train_dataset = GeneratedPoLypDataset(train_image_paths)\n",
        "    train_dataloader = DataLoader(\n",
        "        dataset=train_dataset,\n",
        "        batch_size=BATCH_SIZE,\n",
        "        shuffle=True,\n",
        "        num_workers=NUM_WORKERS,\n",
        "        pin_memory=PIN_MEMORY\n",
        "    )\n",
        "\n",
        "    val_dataset = GeneratedPoLypDataset(val_image_paths)\n",
        "    val_dataloader = DataLoader(\n",
        "        dataset=val_dataset,\n",
        "        batch_size=BATCH_SIZE,\n",
        "        shuffle=False,\n",
        "        num_workers=NUM_WORKERS,\n",
        "        pin_memory=PIN_MEMORY\n",
        "    )\n",
        "\n",
        "    # Loss function\n",
        "    criterion = DiceLoss()\n",
        "\n",
        "    # Adam optimizer\n",
        "    optimizer = optim.Adam(\n",
        "        model.parameters(),\n",
        "        lr=LEARNING_RATE\n",
        "    )\n",
        "\n",
        "    # Learning rate scheduler\n",
        "    scheduler = ReduceLROnPlateau(optimizer, 'min')\n",
        "\n",
        "    # Train\n",
        "    for epoch in range(start_epoch, num_epochs):\n",
        "        print(f'Epoch {epoch+1}/{num_epochs}:')\n",
        "\n",
        "        epoch_scores = do_one_epoch(\n",
        "            model,\n",
        "            train_dataloader,\n",
        "            val_dataloader,\n",
        "            optimizer,\n",
        "            criterion,\n",
        "            device,\n",
        "            #scheduler\n",
        "        )\n",
        "\n",
        "        epoch_train_loss = epoch_scores.get('epoch_train_loss')\n",
        "        epoch_train_dice = epoch_scores.get('epoch_train_dice')\n",
        "        epoch_val_loss   = epoch_scores.get('epoch_val_loss')\n",
        "        epoch_val_dice   = epoch_scores.get('epoch_val_dice')\n",
        "        scores['train_loss'].append(epoch_train_loss)\n",
        "        scores['train_dice'].append(epoch_train_dice)\n",
        "        scores['val_loss'].append(epoch_val_loss)\n",
        "        scores['val_dice'].append(epoch_val_dice)\n",
        "\n",
        "        # Save best model\n",
        "        is_loss_decreased = epoch_val_loss <= best_loss\n",
        "        is_dice_increased = epoch_val_dice > best_dice\n",
        "\n",
        "        if is_loss_decreased and is_dice_increased:\n",
        "            best_loss = epoch_val_loss\n",
        "            best_dice = epoch_val_dice\n",
        "            dice_str = f'{best_dice:.4f}'.replace('.', '')\n",
        "            save_path = os.path.join(ROOT, 'models', f'unet_real_{dice_str}.pth')\n",
        "            state_dict = {\n",
        "                'model_state_dict': model.state_dict(),\n",
        "                'epoch_val_loss': epoch_val_loss,\n",
        "                'epoch_val_dice': epoch_val_dice,\n",
        "                'epoch': epoch,\n",
        "            }\n",
        "            torch.save(state_dict, save_path)\n",
        "            counter = 0  # Reset counter if there's improvement\n",
        "            print(f'Save best model with best loss: {best_loss:.4f}, best dice: {epoch_val_dice:.4f}')\n",
        "        else:\n",
        "            counter += 1\n",
        "            if counter >= patience:\n",
        "                print(f'Early stopping at epoch {epoch}.')\n",
        "                break\n",
        "\n",
        "        print('')\n",
        "    return scores"
      ],
      "metadata": {
        "id": "1HfoozvkGhf-"
      },
      "execution_count": null,
      "outputs": []
    },
    {
      "cell_type": "code",
      "source": [
        "model = UnetSegmentationModel(in_channels=3, num_classes=1)\n",
        "# model_path = os.path.join(ROOT, 'models', 'unet_real_07927.pth')\n",
        "# state_dict = torch.load(model_path, map_location=device)\n",
        "\n",
        "# Count the number of learnable parameters\n",
        "learnable_params = sum(p.numel() for p in model.parameters() if p.requires_grad)\n",
        "print(f\"Number of learnable parameters: {learnable_params}\")"
      ],
      "metadata": {
        "colab": {
          "base_uri": "https://localhost:8080/"
        },
        "id": "lD5FX1ebv5GH",
        "outputId": "d904f63d-d829-4284-873a-385aec939d63"
      },
      "execution_count": null,
      "outputs": [
        {
          "output_type": "stream",
          "name": "stdout",
          "text": [
            "Number of learnable parameters: 7765985\n"
          ]
        }
      ]
    },
    {
      "cell_type": "code",
      "source": [
        "scores = train(\n",
        "    train_image_paths=train_image_paths,\n",
        "    val_image_paths=val_image_paths,\n",
        "    model=model,\n",
        "    num_epochs=NUM_EPOCHS,\n",
        "    #state_dict=state_dict\n",
        ")"
      ],
      "metadata": {
        "colab": {
          "base_uri": "https://localhost:8080/"
        },
        "id": "Srxfeg8Fgx1h",
        "outputId": "acc5bd4a-005b-4d5e-d25a-bf0504e11ba4"
      },
      "execution_count": null,
      "outputs": [
        {
          "output_type": "stream",
          "name": "stdout",
          "text": [
            "Training from scratch...\n",
            "Epoch 1/200:\n"
          ]
        },
        {
          "output_type": "stream",
          "name": "stderr",
          "text": []
        },
        {
          "output_type": "stream",
          "name": "stdout",
          "text": [
            "Train loss: 0.0062, train dice: 0.3332\n"
          ]
        },
        {
          "output_type": "stream",
          "name": "stderr",
          "text": []
        },
        {
          "output_type": "stream",
          "name": "stdout",
          "text": [
            "Val loss  : 0.0080, val dice: 0.2750\n",
            "\n",
            "Epoch 2/200:\n"
          ]
        },
        {
          "output_type": "stream",
          "name": "stderr",
          "text": []
        },
        {
          "output_type": "stream",
          "name": "stdout",
          "text": [
            "Train loss: 0.0058, train dice: 0.3986\n"
          ]
        },
        {
          "output_type": "stream",
          "name": "stderr",
          "text": []
        },
        {
          "output_type": "stream",
          "name": "stdout",
          "text": [
            "Val loss  : 0.0079, val dice: 0.2805\n",
            "\n",
            "Epoch 3/200:\n"
          ]
        },
        {
          "output_type": "stream",
          "name": "stderr",
          "text": []
        },
        {
          "output_type": "stream",
          "name": "stdout",
          "text": [
            "Train loss: 0.0055, train dice: 0.4704\n"
          ]
        },
        {
          "output_type": "stream",
          "name": "stderr",
          "text": []
        },
        {
          "output_type": "stream",
          "name": "stdout",
          "text": [
            "Val loss  : 0.0078, val dice: 0.2786\n",
            "\n",
            "Epoch 4/200:\n"
          ]
        },
        {
          "output_type": "stream",
          "name": "stderr",
          "text": []
        },
        {
          "output_type": "stream",
          "name": "stdout",
          "text": [
            "Train loss: 0.0053, train dice: 0.5229\n"
          ]
        },
        {
          "output_type": "stream",
          "name": "stderr",
          "text": []
        },
        {
          "output_type": "stream",
          "name": "stdout",
          "text": [
            "Val loss  : 0.0077, val dice: 0.2917\n",
            "\n",
            "Epoch 5/200:\n"
          ]
        },
        {
          "output_type": "stream",
          "name": "stderr",
          "text": []
        },
        {
          "output_type": "stream",
          "name": "stdout",
          "text": [
            "Train loss: 0.0052, train dice: 0.5314\n"
          ]
        },
        {
          "output_type": "stream",
          "name": "stderr",
          "text": []
        },
        {
          "output_type": "stream",
          "name": "stdout",
          "text": [
            "Val loss  : 0.0073, val dice: 0.3719\n",
            "\n",
            "Epoch 6/200:\n"
          ]
        },
        {
          "output_type": "stream",
          "name": "stderr",
          "text": []
        },
        {
          "output_type": "stream",
          "name": "stdout",
          "text": [
            "Train loss: 0.0050, train dice: 0.5564\n"
          ]
        },
        {
          "output_type": "stream",
          "name": "stderr",
          "text": []
        },
        {
          "output_type": "stream",
          "name": "stdout",
          "text": [
            "Val loss  : 0.0073, val dice: 0.3748\n",
            "\n",
            "Epoch 7/200:\n"
          ]
        },
        {
          "output_type": "stream",
          "name": "stderr",
          "text": []
        },
        {
          "output_type": "stream",
          "name": "stdout",
          "text": [
            "Train loss: 0.0048, train dice: 0.5958\n"
          ]
        },
        {
          "output_type": "stream",
          "name": "stderr",
          "text": []
        },
        {
          "output_type": "stream",
          "name": "stdout",
          "text": [
            "Val loss  : 0.0070, val dice: 0.4426\n",
            "\n",
            "Epoch 8/200:\n"
          ]
        },
        {
          "output_type": "stream",
          "name": "stderr",
          "text": []
        },
        {
          "output_type": "stream",
          "name": "stdout",
          "text": [
            "Train loss: 0.0046, train dice: 0.6038\n"
          ]
        },
        {
          "output_type": "stream",
          "name": "stderr",
          "text": []
        },
        {
          "output_type": "stream",
          "name": "stdout",
          "text": [
            "Val loss  : 0.0066, val dice: 0.5442\n",
            "Save best model with best loss: 0.0066, best dice: 0.5442\n",
            "\n",
            "Epoch 9/200:\n"
          ]
        },
        {
          "output_type": "stream",
          "name": "stderr",
          "text": []
        },
        {
          "output_type": "stream",
          "name": "stdout",
          "text": [
            "Train loss: 0.0044, train dice: 0.6367\n"
          ]
        },
        {
          "output_type": "stream",
          "name": "stderr",
          "text": []
        },
        {
          "output_type": "stream",
          "name": "stdout",
          "text": [
            "Val loss  : 0.0066, val dice: 0.4867\n",
            "\n",
            "Epoch 10/200:\n"
          ]
        },
        {
          "output_type": "stream",
          "name": "stderr",
          "text": []
        },
        {
          "output_type": "stream",
          "name": "stdout",
          "text": [
            "Train loss: 0.0043, train dice: 0.6307\n"
          ]
        },
        {
          "output_type": "stream",
          "name": "stderr",
          "text": []
        },
        {
          "output_type": "stream",
          "name": "stdout",
          "text": [
            "Val loss  : 0.0063, val dice: 0.5135\n",
            "\n",
            "Epoch 11/200:\n"
          ]
        },
        {
          "output_type": "stream",
          "name": "stderr",
          "text": []
        },
        {
          "output_type": "stream",
          "name": "stdout",
          "text": [
            "Train loss: 0.0041, train dice: 0.6397\n"
          ]
        },
        {
          "output_type": "stream",
          "name": "stderr",
          "text": []
        },
        {
          "output_type": "stream",
          "name": "stdout",
          "text": [
            "Val loss  : 0.0063, val dice: 0.4944\n",
            "\n",
            "Epoch 12/200:\n"
          ]
        },
        {
          "output_type": "stream",
          "name": "stderr",
          "text": []
        },
        {
          "output_type": "stream",
          "name": "stdout",
          "text": [
            "Train loss: 0.0039, train dice: 0.6503\n"
          ]
        },
        {
          "output_type": "stream",
          "name": "stderr",
          "text": []
        },
        {
          "output_type": "stream",
          "name": "stdout",
          "text": [
            "Val loss  : 0.0062, val dice: 0.5170\n",
            "\n",
            "Epoch 13/200:\n"
          ]
        },
        {
          "output_type": "stream",
          "name": "stderr",
          "text": []
        },
        {
          "output_type": "stream",
          "name": "stdout",
          "text": [
            "Train loss: 0.0036, train dice: 0.6940\n"
          ]
        },
        {
          "output_type": "stream",
          "name": "stderr",
          "text": []
        },
        {
          "output_type": "stream",
          "name": "stdout",
          "text": [
            "Val loss  : 0.0055, val dice: 0.6220\n",
            "Save best model with best loss: 0.0055, best dice: 0.6220\n",
            "\n",
            "Epoch 14/200:\n"
          ]
        },
        {
          "output_type": "stream",
          "name": "stderr",
          "text": []
        },
        {
          "output_type": "stream",
          "name": "stdout",
          "text": [
            "Train loss: 0.0034, train dice: 0.7122\n"
          ]
        },
        {
          "output_type": "stream",
          "name": "stderr",
          "text": []
        },
        {
          "output_type": "stream",
          "name": "stdout",
          "text": [
            "Val loss  : 0.0053, val dice: 0.6601\n",
            "Save best model with best loss: 0.0053, best dice: 0.6601\n",
            "\n",
            "Epoch 15/200:\n"
          ]
        },
        {
          "output_type": "stream",
          "name": "stderr",
          "text": []
        },
        {
          "output_type": "stream",
          "name": "stdout",
          "text": [
            "Train loss: 0.0031, train dice: 0.7386\n"
          ]
        },
        {
          "output_type": "stream",
          "name": "stderr",
          "text": []
        },
        {
          "output_type": "stream",
          "name": "stdout",
          "text": [
            "Val loss  : 0.0051, val dice: 0.6354\n",
            "\n",
            "Epoch 16/200:\n"
          ]
        },
        {
          "output_type": "stream",
          "name": "stderr",
          "text": []
        },
        {
          "output_type": "stream",
          "name": "stdout",
          "text": [
            "Train loss: 0.0029, train dice: 0.7584\n"
          ]
        },
        {
          "output_type": "stream",
          "name": "stderr",
          "text": []
        },
        {
          "output_type": "stream",
          "name": "stdout",
          "text": [
            "Val loss  : 0.0056, val dice: 0.5467\n",
            "\n",
            "Epoch 17/200:\n"
          ]
        },
        {
          "output_type": "stream",
          "name": "stderr",
          "text": []
        },
        {
          "output_type": "stream",
          "name": "stdout",
          "text": [
            "Train loss: 0.0028, train dice: 0.7607\n"
          ]
        },
        {
          "output_type": "stream",
          "name": "stderr",
          "text": []
        },
        {
          "output_type": "stream",
          "name": "stdout",
          "text": [
            "Val loss  : 0.0047, val dice: 0.6704\n",
            "Save best model with best loss: 0.0047, best dice: 0.6704\n",
            "\n",
            "Epoch 18/200:\n"
          ]
        },
        {
          "output_type": "stream",
          "name": "stderr",
          "text": []
        },
        {
          "output_type": "stream",
          "name": "stdout",
          "text": [
            "Train loss: 0.0025, train dice: 0.7754\n"
          ]
        },
        {
          "output_type": "stream",
          "name": "stderr",
          "text": []
        },
        {
          "output_type": "stream",
          "name": "stdout",
          "text": [
            "Val loss  : 0.0041, val dice: 0.7058\n",
            "Save best model with best loss: 0.0041, best dice: 0.7058\n",
            "\n",
            "Epoch 19/200:\n"
          ]
        },
        {
          "output_type": "stream",
          "name": "stderr",
          "text": []
        },
        {
          "output_type": "stream",
          "name": "stdout",
          "text": [
            "Train loss: 0.0023, train dice: 0.7902\n"
          ]
        },
        {
          "output_type": "stream",
          "name": "stderr",
          "text": []
        },
        {
          "output_type": "stream",
          "name": "stdout",
          "text": [
            "Val loss  : 0.0050, val dice: 0.5962\n",
            "\n",
            "Epoch 20/200:\n"
          ]
        },
        {
          "output_type": "stream",
          "name": "stderr",
          "text": []
        },
        {
          "output_type": "stream",
          "name": "stdout",
          "text": [
            "Train loss: 0.0022, train dice: 0.7913\n"
          ]
        },
        {
          "output_type": "stream",
          "name": "stderr",
          "text": []
        },
        {
          "output_type": "stream",
          "name": "stdout",
          "text": [
            "Val loss  : 0.0044, val dice: 0.6790\n",
            "\n",
            "Epoch 21/200:\n"
          ]
        },
        {
          "output_type": "stream",
          "name": "stderr",
          "text": []
        },
        {
          "output_type": "stream",
          "name": "stdout",
          "text": [
            "Train loss: 0.0019, train dice: 0.8243\n"
          ]
        },
        {
          "output_type": "stream",
          "name": "stderr",
          "text": []
        },
        {
          "output_type": "stream",
          "name": "stdout",
          "text": [
            "Val loss  : 0.0041, val dice: 0.6695\n",
            "\n",
            "Epoch 22/200:\n"
          ]
        },
        {
          "output_type": "stream",
          "name": "stderr",
          "text": []
        },
        {
          "output_type": "stream",
          "name": "stdout",
          "text": [
            "Train loss: 0.0019, train dice: 0.8197\n"
          ]
        },
        {
          "output_type": "stream",
          "name": "stderr",
          "text": []
        },
        {
          "output_type": "stream",
          "name": "stdout",
          "text": [
            "Val loss  : 0.0042, val dice: 0.6903\n",
            "\n",
            "Epoch 23/200:\n"
          ]
        },
        {
          "output_type": "stream",
          "name": "stderr",
          "text": []
        },
        {
          "output_type": "stream",
          "name": "stdout",
          "text": [
            "Train loss: 0.0018, train dice: 0.8186\n"
          ]
        },
        {
          "output_type": "stream",
          "name": "stderr",
          "text": []
        },
        {
          "output_type": "stream",
          "name": "stdout",
          "text": [
            "Val loss  : 0.0037, val dice: 0.7225\n",
            "Save best model with best loss: 0.0037, best dice: 0.7225\n",
            "\n",
            "Epoch 24/200:\n"
          ]
        },
        {
          "output_type": "stream",
          "name": "stderr",
          "text": []
        },
        {
          "output_type": "stream",
          "name": "stdout",
          "text": [
            "Train loss: 0.0016, train dice: 0.8450\n"
          ]
        },
        {
          "output_type": "stream",
          "name": "stderr",
          "text": []
        },
        {
          "output_type": "stream",
          "name": "stdout",
          "text": [
            "Val loss  : 0.0036, val dice: 0.7242\n",
            "Save best model with best loss: 0.0036, best dice: 0.7242\n",
            "\n",
            "Epoch 25/200:\n"
          ]
        },
        {
          "output_type": "stream",
          "name": "stderr",
          "text": []
        },
        {
          "output_type": "stream",
          "name": "stdout",
          "text": [
            "Train loss: 0.0015, train dice: 0.8517\n"
          ]
        },
        {
          "output_type": "stream",
          "name": "stderr",
          "text": []
        },
        {
          "output_type": "stream",
          "name": "stdout",
          "text": [
            "Val loss  : 0.0035, val dice: 0.7186\n",
            "\n",
            "Epoch 26/200:\n"
          ]
        },
        {
          "output_type": "stream",
          "name": "stderr",
          "text": []
        },
        {
          "output_type": "stream",
          "name": "stdout",
          "text": [
            "Train loss: 0.0014, train dice: 0.8611\n"
          ]
        },
        {
          "output_type": "stream",
          "name": "stderr",
          "text": []
        },
        {
          "output_type": "stream",
          "name": "stdout",
          "text": [
            "Val loss  : 0.0032, val dice: 0.7439\n",
            "Save best model with best loss: 0.0032, best dice: 0.7439\n",
            "\n",
            "Epoch 27/200:\n"
          ]
        },
        {
          "output_type": "stream",
          "name": "stderr",
          "text": []
        },
        {
          "output_type": "stream",
          "name": "stdout",
          "text": [
            "Train loss: 0.0014, train dice: 0.8580\n"
          ]
        },
        {
          "output_type": "stream",
          "name": "stderr",
          "text": []
        },
        {
          "output_type": "stream",
          "name": "stdout",
          "text": [
            "Val loss  : 0.0035, val dice: 0.7283\n",
            "\n",
            "Epoch 28/200:\n"
          ]
        },
        {
          "output_type": "stream",
          "name": "stderr",
          "text": []
        },
        {
          "output_type": "stream",
          "name": "stdout",
          "text": [
            "Train loss: 0.0012, train dice: 0.8782\n"
          ]
        },
        {
          "output_type": "stream",
          "name": "stderr",
          "text": []
        },
        {
          "output_type": "stream",
          "name": "stdout",
          "text": [
            "Val loss  : 0.0036, val dice: 0.7159\n",
            "\n",
            "Epoch 29/200:\n"
          ]
        },
        {
          "output_type": "stream",
          "name": "stderr",
          "text": []
        },
        {
          "output_type": "stream",
          "name": "stdout",
          "text": [
            "Train loss: 0.0012, train dice: 0.8824\n"
          ]
        },
        {
          "output_type": "stream",
          "name": "stderr",
          "text": []
        },
        {
          "output_type": "stream",
          "name": "stdout",
          "text": [
            "Val loss  : 0.0033, val dice: 0.7246\n",
            "\n",
            "Epoch 30/200:\n"
          ]
        },
        {
          "output_type": "stream",
          "name": "stderr",
          "text": []
        },
        {
          "output_type": "stream",
          "name": "stdout",
          "text": [
            "Train loss: 0.0012, train dice: 0.8795\n"
          ]
        },
        {
          "output_type": "stream",
          "name": "stderr",
          "text": []
        },
        {
          "output_type": "stream",
          "name": "stdout",
          "text": [
            "Val loss  : 0.0030, val dice: 0.7602\n",
            "Save best model with best loss: 0.0030, best dice: 0.7602\n",
            "\n",
            "Epoch 31/200:\n"
          ]
        },
        {
          "output_type": "stream",
          "name": "stderr",
          "text": []
        },
        {
          "output_type": "stream",
          "name": "stdout",
          "text": [
            "Train loss: 0.0011, train dice: 0.8863\n"
          ]
        },
        {
          "output_type": "stream",
          "name": "stderr",
          "text": []
        },
        {
          "output_type": "stream",
          "name": "stdout",
          "text": [
            "Val loss  : 0.0031, val dice: 0.7250\n",
            "\n",
            "Epoch 32/200:\n"
          ]
        },
        {
          "output_type": "stream",
          "name": "stderr",
          "text": []
        },
        {
          "output_type": "stream",
          "name": "stdout",
          "text": [
            "Train loss: 0.0010, train dice: 0.8989\n"
          ]
        },
        {
          "output_type": "stream",
          "name": "stderr",
          "text": []
        },
        {
          "output_type": "stream",
          "name": "stdout",
          "text": [
            "Val loss  : 0.0028, val dice: 0.7691\n",
            "Save best model with best loss: 0.0028, best dice: 0.7691\n",
            "\n",
            "Epoch 33/200:\n"
          ]
        },
        {
          "output_type": "stream",
          "name": "stderr",
          "text": []
        },
        {
          "output_type": "stream",
          "name": "stdout",
          "text": [
            "Train loss: 0.0010, train dice: 0.9024\n"
          ]
        },
        {
          "output_type": "stream",
          "name": "stderr",
          "text": []
        },
        {
          "output_type": "stream",
          "name": "stdout",
          "text": [
            "Val loss  : 0.0029, val dice: 0.7675\n",
            "\n",
            "Epoch 34/200:\n"
          ]
        },
        {
          "output_type": "stream",
          "name": "stderr",
          "text": []
        },
        {
          "output_type": "stream",
          "name": "stdout",
          "text": [
            "Train loss: 0.0009, train dice: 0.9111\n"
          ]
        },
        {
          "output_type": "stream",
          "name": "stderr",
          "text": []
        },
        {
          "output_type": "stream",
          "name": "stdout",
          "text": [
            "Val loss  : 0.0031, val dice: 0.7503\n",
            "\n",
            "Epoch 35/200:\n"
          ]
        },
        {
          "output_type": "stream",
          "name": "stderr",
          "text": []
        },
        {
          "output_type": "stream",
          "name": "stdout",
          "text": [
            "Train loss: 0.0009, train dice: 0.9065\n"
          ]
        },
        {
          "output_type": "stream",
          "name": "stderr",
          "text": []
        },
        {
          "output_type": "stream",
          "name": "stdout",
          "text": [
            "Val loss  : 0.0028, val dice: 0.7601\n",
            "\n",
            "Epoch 36/200:\n"
          ]
        },
        {
          "output_type": "stream",
          "name": "stderr",
          "text": []
        },
        {
          "output_type": "stream",
          "name": "stdout",
          "text": [
            "Train loss: 0.0009, train dice: 0.9091\n"
          ]
        },
        {
          "output_type": "stream",
          "name": "stderr",
          "text": []
        },
        {
          "output_type": "stream",
          "name": "stdout",
          "text": [
            "Val loss  : 0.0028, val dice: 0.7790\n",
            "Save best model with best loss: 0.0028, best dice: 0.7790\n",
            "\n",
            "Epoch 37/200:\n"
          ]
        },
        {
          "output_type": "stream",
          "name": "stderr",
          "text": []
        },
        {
          "output_type": "stream",
          "name": "stdout",
          "text": [
            "Train loss: 0.0008, train dice: 0.9180\n"
          ]
        },
        {
          "output_type": "stream",
          "name": "stderr",
          "text": []
        },
        {
          "output_type": "stream",
          "name": "stdout",
          "text": [
            "Val loss  : 0.0027, val dice: 0.7638\n",
            "\n",
            "Epoch 38/200:\n"
          ]
        },
        {
          "output_type": "stream",
          "name": "stderr",
          "text": []
        },
        {
          "output_type": "stream",
          "name": "stdout",
          "text": [
            "Train loss: 0.0008, train dice: 0.9193\n"
          ]
        },
        {
          "output_type": "stream",
          "name": "stderr",
          "text": []
        },
        {
          "output_type": "stream",
          "name": "stdout",
          "text": [
            "Val loss  : 0.0027, val dice: 0.7782\n",
            "\n",
            "Epoch 39/200:\n"
          ]
        },
        {
          "output_type": "stream",
          "name": "stderr",
          "text": []
        },
        {
          "output_type": "stream",
          "name": "stdout",
          "text": [
            "Train loss: 0.0007, train dice: 0.9211\n"
          ]
        },
        {
          "output_type": "stream",
          "name": "stderr",
          "text": []
        },
        {
          "output_type": "stream",
          "name": "stdout",
          "text": [
            "Val loss  : 0.0026, val dice: 0.7921\n",
            "Save best model with best loss: 0.0026, best dice: 0.7921\n",
            "\n",
            "Epoch 40/200:\n"
          ]
        },
        {
          "output_type": "stream",
          "name": "stderr",
          "text": []
        },
        {
          "output_type": "stream",
          "name": "stdout",
          "text": [
            "Train loss: 0.0007, train dice: 0.9262\n"
          ]
        },
        {
          "output_type": "stream",
          "name": "stderr",
          "text": []
        },
        {
          "output_type": "stream",
          "name": "stdout",
          "text": [
            "Val loss  : 0.0029, val dice: 0.7726\n",
            "\n",
            "Epoch 41/200:\n"
          ]
        },
        {
          "output_type": "stream",
          "name": "stderr",
          "text": []
        },
        {
          "output_type": "stream",
          "name": "stdout",
          "text": [
            "Train loss: 0.0007, train dice: 0.9261\n"
          ]
        },
        {
          "output_type": "stream",
          "name": "stderr",
          "text": []
        },
        {
          "output_type": "stream",
          "name": "stdout",
          "text": [
            "Val loss  : 0.0028, val dice: 0.7688\n",
            "\n",
            "Epoch 42/200:\n"
          ]
        },
        {
          "output_type": "stream",
          "name": "stderr",
          "text": []
        },
        {
          "output_type": "stream",
          "name": "stdout",
          "text": [
            "Train loss: 0.0007, train dice: 0.9297\n"
          ]
        },
        {
          "output_type": "stream",
          "name": "stderr",
          "text": []
        },
        {
          "output_type": "stream",
          "name": "stdout",
          "text": [
            "Val loss  : 0.0024, val dice: 0.7948\n",
            "Save best model with best loss: 0.0024, best dice: 0.7948\n",
            "\n",
            "Epoch 43/200:\n"
          ]
        },
        {
          "output_type": "stream",
          "name": "stderr",
          "text": []
        },
        {
          "output_type": "stream",
          "name": "stdout",
          "text": [
            "Train loss: 0.0007, train dice: 0.9304\n"
          ]
        },
        {
          "output_type": "stream",
          "name": "stderr",
          "text": []
        },
        {
          "output_type": "stream",
          "name": "stdout",
          "text": [
            "Val loss  : 0.0029, val dice: 0.7628\n",
            "\n",
            "Epoch 44/200:\n"
          ]
        },
        {
          "output_type": "stream",
          "name": "stderr",
          "text": []
        },
        {
          "output_type": "stream",
          "name": "stdout",
          "text": [
            "Train loss: 0.0006, train dice: 0.9315\n"
          ]
        },
        {
          "output_type": "stream",
          "name": "stderr",
          "text": []
        },
        {
          "output_type": "stream",
          "name": "stdout",
          "text": [
            "Val loss  : 0.0026, val dice: 0.7859\n",
            "\n",
            "Epoch 45/200:\n"
          ]
        },
        {
          "output_type": "stream",
          "name": "stderr",
          "text": []
        },
        {
          "output_type": "stream",
          "name": "stdout",
          "text": [
            "Train loss: 0.0006, train dice: 0.9332\n"
          ]
        },
        {
          "output_type": "stream",
          "name": "stderr",
          "text": []
        },
        {
          "output_type": "stream",
          "name": "stdout",
          "text": [
            "Val loss  : 0.0025, val dice: 0.7781\n",
            "\n",
            "Epoch 46/200:\n"
          ]
        },
        {
          "output_type": "stream",
          "name": "stderr",
          "text": []
        },
        {
          "output_type": "stream",
          "name": "stdout",
          "text": [
            "Train loss: 0.0007, train dice: 0.9289\n"
          ]
        },
        {
          "output_type": "stream",
          "name": "stderr",
          "text": []
        },
        {
          "output_type": "stream",
          "name": "stdout",
          "text": [
            "Val loss  : 0.0030, val dice: 0.7598\n",
            "\n",
            "Epoch 47/200:\n"
          ]
        },
        {
          "output_type": "stream",
          "name": "stderr",
          "text": []
        },
        {
          "output_type": "stream",
          "name": "stdout",
          "text": [
            "Train loss: 0.0007, train dice: 0.9274\n"
          ]
        },
        {
          "output_type": "stream",
          "name": "stderr",
          "text": []
        },
        {
          "output_type": "stream",
          "name": "stdout",
          "text": [
            "Val loss  : 0.0027, val dice: 0.7692\n",
            "\n",
            "Epoch 48/200:\n"
          ]
        },
        {
          "output_type": "stream",
          "name": "stderr",
          "text": []
        },
        {
          "output_type": "stream",
          "name": "stdout",
          "text": [
            "Train loss: 0.0007, train dice: 0.9227\n"
          ]
        },
        {
          "output_type": "stream",
          "name": "stderr",
          "text": []
        },
        {
          "output_type": "stream",
          "name": "stdout",
          "text": [
            "Val loss  : 0.0035, val dice: 0.7193\n",
            "\n",
            "Epoch 49/200:\n"
          ]
        },
        {
          "output_type": "stream",
          "name": "stderr",
          "text": []
        },
        {
          "output_type": "stream",
          "name": "stdout",
          "text": [
            "Train loss: 0.0007, train dice: 0.9252\n"
          ]
        },
        {
          "output_type": "stream",
          "name": "stderr",
          "text": []
        },
        {
          "output_type": "stream",
          "name": "stdout",
          "text": [
            "Val loss  : 0.0027, val dice: 0.7855\n",
            "\n",
            "Epoch 50/200:\n"
          ]
        },
        {
          "output_type": "stream",
          "name": "stderr",
          "text": []
        },
        {
          "output_type": "stream",
          "name": "stdout",
          "text": [
            "Train loss: 0.0006, train dice: 0.9310\n"
          ]
        },
        {
          "output_type": "stream",
          "name": "stderr",
          "text": []
        },
        {
          "output_type": "stream",
          "name": "stdout",
          "text": [
            "Val loss  : 0.0028, val dice: 0.7753\n",
            "\n",
            "Epoch 51/200:\n"
          ]
        },
        {
          "output_type": "stream",
          "name": "stderr",
          "text": []
        },
        {
          "output_type": "stream",
          "name": "stdout",
          "text": [
            "Train loss: 0.0006, train dice: 0.9311\n"
          ]
        },
        {
          "output_type": "stream",
          "name": "stderr",
          "text": []
        },
        {
          "output_type": "stream",
          "name": "stdout",
          "text": [
            "Val loss  : 0.0025, val dice: 0.7923\n",
            "\n",
            "Epoch 52/200:\n"
          ]
        },
        {
          "output_type": "stream",
          "name": "stderr",
          "text": []
        },
        {
          "output_type": "stream",
          "name": "stdout",
          "text": [
            "Train loss: 0.0007, train dice: 0.9281\n"
          ]
        },
        {
          "output_type": "stream",
          "name": "stderr",
          "text": []
        },
        {
          "output_type": "stream",
          "name": "stdout",
          "text": [
            "Val loss  : 0.0029, val dice: 0.7598\n",
            "\n",
            "Epoch 53/200:\n"
          ]
        },
        {
          "output_type": "stream",
          "name": "stderr",
          "text": []
        },
        {
          "output_type": "stream",
          "name": "stdout",
          "text": [
            "Train loss: 0.0007, train dice: 0.9257\n"
          ]
        },
        {
          "output_type": "stream",
          "name": "stderr",
          "text": []
        },
        {
          "output_type": "stream",
          "name": "stdout",
          "text": [
            "Val loss  : 0.0027, val dice: 0.7805\n",
            "\n",
            "Epoch 54/200:\n"
          ]
        },
        {
          "output_type": "stream",
          "name": "stderr",
          "text": []
        },
        {
          "output_type": "stream",
          "name": "stdout",
          "text": [
            "Train loss: 0.0006, train dice: 0.9339\n"
          ]
        },
        {
          "output_type": "stream",
          "name": "stderr",
          "text": []
        },
        {
          "output_type": "stream",
          "name": "stdout",
          "text": [
            "Val loss  : 0.0026, val dice: 0.7833\n",
            "\n",
            "Epoch 55/200:\n"
          ]
        },
        {
          "output_type": "stream",
          "name": "stderr",
          "text": []
        },
        {
          "output_type": "stream",
          "name": "stdout",
          "text": [
            "Train loss: 0.0006, train dice: 0.9395\n"
          ]
        },
        {
          "output_type": "stream",
          "name": "stderr",
          "text": []
        },
        {
          "output_type": "stream",
          "name": "stdout",
          "text": [
            "Val loss  : 0.0026, val dice: 0.7887\n",
            "\n",
            "Epoch 56/200:\n"
          ]
        },
        {
          "output_type": "stream",
          "name": "stderr",
          "text": []
        },
        {
          "output_type": "stream",
          "name": "stdout",
          "text": [
            "Train loss: 0.0006, train dice: 0.9393\n"
          ]
        },
        {
          "output_type": "stream",
          "name": "stderr",
          "text": []
        },
        {
          "output_type": "stream",
          "name": "stdout",
          "text": [
            "Val loss  : 0.0027, val dice: 0.7906\n",
            "\n",
            "Epoch 57/200:\n"
          ]
        },
        {
          "output_type": "stream",
          "name": "stderr",
          "text": []
        },
        {
          "output_type": "stream",
          "name": "stdout",
          "text": [
            "Train loss: 0.0006, train dice: 0.9395\n"
          ]
        },
        {
          "output_type": "stream",
          "name": "stderr",
          "text": []
        },
        {
          "output_type": "stream",
          "name": "stdout",
          "text": [
            "Val loss  : 0.0026, val dice: 0.7870\n",
            "\n",
            "Epoch 58/200:\n"
          ]
        },
        {
          "output_type": "stream",
          "name": "stderr",
          "text": []
        },
        {
          "output_type": "stream",
          "name": "stdout",
          "text": [
            "Train loss: 0.0006, train dice: 0.9385\n"
          ]
        },
        {
          "output_type": "stream",
          "name": "stderr",
          "text": []
        },
        {
          "output_type": "stream",
          "name": "stdout",
          "text": [
            "Val loss  : 0.0028, val dice: 0.7595\n",
            "\n",
            "Epoch 59/200:\n"
          ]
        },
        {
          "output_type": "stream",
          "name": "stderr",
          "text": []
        },
        {
          "output_type": "stream",
          "name": "stdout",
          "text": [
            "Train loss: 0.0005, train dice: 0.9419\n"
          ]
        },
        {
          "output_type": "stream",
          "name": "stderr",
          "text": []
        },
        {
          "output_type": "stream",
          "name": "stdout",
          "text": [
            "Val loss  : 0.0027, val dice: 0.7886\n",
            "\n",
            "Epoch 60/200:\n"
          ]
        },
        {
          "output_type": "stream",
          "name": "stderr",
          "text": []
        },
        {
          "output_type": "stream",
          "name": "stdout",
          "text": [
            "Train loss: 0.0005, train dice: 0.9420\n"
          ]
        },
        {
          "output_type": "stream",
          "name": "stderr",
          "text": []
        },
        {
          "output_type": "stream",
          "name": "stdout",
          "text": [
            "Val loss  : 0.0026, val dice: 0.7871\n",
            "\n",
            "Epoch 61/200:\n"
          ]
        },
        {
          "output_type": "stream",
          "name": "stderr",
          "text": []
        },
        {
          "output_type": "stream",
          "name": "stdout",
          "text": [
            "Train loss: 0.0006, train dice: 0.9390\n"
          ]
        },
        {
          "output_type": "stream",
          "name": "stderr",
          "text": []
        },
        {
          "output_type": "stream",
          "name": "stdout",
          "text": [
            "Val loss  : 0.0026, val dice: 0.7854\n",
            "\n",
            "Epoch 62/200:\n"
          ]
        },
        {
          "output_type": "stream",
          "name": "stderr",
          "text": []
        },
        {
          "output_type": "stream",
          "name": "stdout",
          "text": [
            "Train loss: 0.0005, train dice: 0.9431\n"
          ]
        },
        {
          "output_type": "stream",
          "name": "stderr",
          "text": [
            "                                                         "
          ]
        },
        {
          "output_type": "stream",
          "name": "stdout",
          "text": [
            "Val loss  : 0.0026, val dice: 0.7866\n",
            "Early stopping at epoch 61.\n"
          ]
        },
        {
          "output_type": "stream",
          "name": "stderr",
          "text": [
            "\r"
          ]
        }
      ]
    },
    {
      "cell_type": "code",
      "source": [
        "train_loss = scores.get('train_loss')\n",
        "train_dice = scores.get('train_dice')\n",
        "val_loss = scores.get('val_loss')\n",
        "val_dice = scores.get('val_dice')\n",
        "\n",
        "plt.plot(train_loss)\n",
        "plt.plot(val_loss)"
      ],
      "metadata": {
        "colab": {
          "base_uri": "https://localhost:8080/",
          "height": 447
        },
        "id": "eTY-HuEPxCe0",
        "outputId": "2610a686-c634-4ba1-a9ea-863d4eebfe70"
      },
      "execution_count": null,
      "outputs": [
        {
          "output_type": "execute_result",
          "data": {
            "text/plain": [
              "[<matplotlib.lines.Line2D at 0x78640ab44250>]"
            ]
          },
          "metadata": {},
          "execution_count": 103
        },
        {
          "output_type": "display_data",
          "data": {
            "text/plain": [
              "<Figure size 640x480 with 1 Axes>"
            ],
            "image/png": "[encoded data removed]"
          },
          "metadata": {}
        }
      ]
    },
    {
      "cell_type": "code",
      "source": [
        "plt.plot(train_dice)\n",
        "plt.plot(val_dice)"
      ],
      "metadata": {
        "colab": {
          "base_uri": "https://localhost:8080/",
          "height": 447
        },
        "id": "hOJuxcxcNHgX",
        "outputId": "823cfd53-c101-4b2c-a01b-c62867e2090a"
      },
      "execution_count": null,
      "outputs": [
        {
          "output_type": "execute_result",
          "data": {
            "text/plain": [
              "[<matplotlib.lines.Line2D at 0x78640aa57b50>]"
            ]
          },
          "metadata": {},
          "execution_count": 111
        },
        {
          "output_type": "display_data",
          "data": {
            "text/plain": [
              "<Figure size 640x480 with 1 Axes>"
            ],
            "image/png": "[encoded data removed]"
          },
          "metadata": {}
        }
      ]
    },
    {
      "cell_type": "markdown",
      "source": [
        "## Test"
      ],
      "metadata": {
        "id": "px9PPJ1mPB9r"
      }
    },
    {
      "cell_type": "code",
      "source": [
        "print('Test U-Net trained with real images')\n",
        "model = UnetSegmentationModel(in_channels=3, num_classes=1)\n",
        "model_path = os.path.join(ROOT, 'models', 'unet_real_07948.pth')\n",
        "state_dict = torch.load(model_path, map_location=device)\n",
        "model.load_state_dict(state_dict['model_state_dict'])\n",
        "test(test_image_paths, model, device)\n",
        "\n",
        "print('-'*30)\n",
        "\n",
        "print('Test U-Net trained with generated images')\n",
        "model = UnetSegmentationModel(in_channels=3, num_classes=1)\n",
        "model_path = os.path.join(ROOT, 'models', 'unet_gen_08545.pth')\n",
        "state_dict = torch.load(model_path, map_location=device)\n",
        "model.load_state_dict(state_dict)\n",
        "test(test_image_paths, model, device)\n",
        "\n",
        "print('-'*30)\n",
        "\n",
        "print('Test U-Net trained with real and generated images')\n",
        "model = UnetSegmentationModel(in_channels=3, num_classes=1)\n",
        "model_path = os.path.join(ROOT, 'models', 'unet_realgen_08874.pth')\n",
        "state_dict = torch.load(model_path, map_location=device)\n",
        "model.load_state_dict(state_dict['model_state_dict'])\n",
        "test(test_image_paths, model, device)"
      ],
      "metadata": {
        "colab": {
          "base_uri": "https://localhost:8080/"
        },
        "id": "_iLoJ-HBFoUb",
        "outputId": "65bf296c-3ea8-4920-d5ca-22a8d3341874"
      },
      "execution_count": null,
      "outputs": [
        {
          "output_type": "stream",
          "name": "stdout",
          "text": [
            "Test U-Net trained with real images\n",
            "400 test images.\n"
          ]
        },
        {
          "output_type": "stream",
          "name": "stderr",
          "text": []
        },
        {
          "output_type": "stream",
          "name": "stdout",
          "text": [
            "Test loss: 0.0024\n",
            "Test dice: 0.7946\n",
            "------------------------------\n",
            "Test U-Net trained with generated images\n",
            "400 test images.\n"
          ]
        },
        {
          "output_type": "stream",
          "name": "stderr",
          "text": []
        },
        {
          "output_type": "stream",
          "name": "stdout",
          "text": [
            "Test loss: 0.0031\n",
            "Test dice: 0.7058\n",
            "------------------------------\n",
            "Test U-Net trained with real and generated images\n",
            "400 test images.\n"
          ]
        },
        {
          "output_type": "stream",
          "name": "stderr",
          "text": [
            "                                                         "
          ]
        },
        {
          "output_type": "stream",
          "name": "stdout",
          "text": [
            "Test loss: 0.0013\n",
            "Test dice: 0.8978\n"
          ]
        },
        {
          "output_type": "stream",
          "name": "stderr",
          "text": [
            "\r"
          ]
        }
      ]
    },
    {
      "cell_type": "code",
      "source": [],
      "metadata": {
        "id": "IAkMAZ5eF88E"
      },
      "execution_count": null,
      "outputs": []
    }
  ]
}