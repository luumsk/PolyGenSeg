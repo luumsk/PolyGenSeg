{
  "cells": [
    {
      "cell_type": "code",
      "execution_count": null,
      "metadata": {
        "colab": {
          "base_uri": "https://localhost:8080/"
        },
        "id": "H7ojGQpVO8Gy",
        "outputId": "44bf5087-2823-489b-dd0b-c1a005a23b60"
      },
      "outputs": [
        {
          "name": "stdout",
          "output_type": "stream",
          "text": [
            "/content/drive/MyDrive/CV02/polyp_dataset_project09\n"
          ]
        }
      ],
      "source": [
        "%cd /content/drive/MyDrive/CV02/polyp_dataset_project09"
      ]
    },
    {
      "cell_type": "code",
      "execution_count": null,
      "metadata": {
        "id": "3HWyTBhgO9UH"
      },
      "outputs": [],
      "source": [
        "import os, json, random\n",
        "import numpy as np\n",
        "import torch\n",
        "import matplotlib.pyplot as plt\n",
        "import matplotlib.image as mpimg\n",
        "\n",
        "random.seed(2024)"
      ]
    },
    {
      "cell_type": "code",
      "execution_count": null,
      "metadata": {
        "id": "WkeRPT2gPFGA"
      },
      "outputs": [],
      "source": [
        "RANDOM_STATE  = 2024\n",
        "BATCH_SIZE    = 128\n",
        "NUM_WORKERS   = 2\n",
        "PIN_MEMORY    = True\n",
        "TEST_SIZE     = 0.2\n",
        "LEARNING_RATE = 0.001\n",
        "NUM_EPOCHS    = 200\n",
        "IMAGE_SIZE    = 128\n",
        "\n",
        "# PATHS\n",
        "ROOT            = '/content/drive/MyDrive/CV02/polyp_dataset_project09'\n",
        "BEST_MODEL_PATH = os.path.join(ROOT, 'models', 'unet_realgen.pth')\n",
        "IMAGE_DIR       = os.path.join(ROOT, 'images')\n",
        "GEN_DIR         = os.path.join(ROOT, 'generated')\n",
        "GEN_IMAGE_DIR   = os.path.join(GEN_DIR, 'images')\n",
        "GEN_MASK_DIR    = os.path.join(GEN_DIR, 'images-mask')\n",
        "OUTPUT_DIR      = os.path.join(ROOT, 'seg_output')\n",
        "TRAIN_JSON      = os.path.join(ROOT, 'polyp_train.json')\n",
        "VAL_JSON        = os.path.join(ROOT, 'polyp_valid.json')\n",
        "TEST_JSON       = os.path.join(ROOT, 'polyp_test.json')"
      ]
    },
    {
      "cell_type": "code",
      "execution_count": null,
      "metadata": {
        "colab": {
          "base_uri": "https://localhost:8080/",
          "height": 87
        },
        "id": "n6irJZejPJC7",
        "outputId": "c37b55c4-8901-40fe-a6c2-73c7859e40da"
      },
      "outputs": [
        {
          "name": "stdout",
          "output_type": "stream",
          "text": [
            "1200 train images.\n",
            "400 val images.\n",
            "400 test images.\n"
          ]
        },
        {
          "data": {
            "application/vnd.google.colaboratory.intrinsic+json": {
              "type": "string"
            },
            "text/plain": [
              "'/content/drive/MyDrive/CV02/polyp_dataset_project09/images/NeoPolyp-Small/00fd197cd955fa095f978455cef3593c.jpg'"
            ]
          },
          "execution_count": 5,
          "metadata": {},
          "output_type": "execute_result"
        }
      ],
      "source": [
        "def load_json(path):\n",
        "    data = None\n",
        "    with open(path, 'r') as f:\n",
        "        data = json.load(f)\n",
        "    return data\n",
        "\n",
        "def get_full_path(path):\n",
        "    path = path.replace('./', '')\n",
        "    return os.path.join(ROOT, path)\n",
        "\n",
        "def convert_to_mask_path(image_path):\n",
        "    #mask_path = image_path.replace('img', 'mask')\n",
        "    mask_path = image_path.replace('/images/', '/images-mask/')\n",
        "    if os.path.isfile(mask_path):\n",
        "        return mask_path\n",
        "    else:\n",
        "        raise ValueError(f'Mask path not found. {mask_path}')\n",
        "\n",
        "# Get all generated image paths\n",
        "gen_image_paths = [\n",
        "    os.path.join(GEN_IMAGE_DIR, fn) for fn in os.listdir(GEN_IMAGE_DIR)\n",
        "]\n",
        "\n",
        "# Concatenate generated image paths with real image paths for training\n",
        "polyp_train = load_json(TRAIN_JSON)['images']\n",
        "train_image_paths = [get_full_path(item['image_path']) for item in polyp_train]\n",
        "#train_image_paths.extend(gen_image_paths)\n",
        "print(f'{len(train_image_paths)} train images.')\n",
        "\n",
        "# Get real image paths for validation\n",
        "polyp_val = load_json(VAL_JSON)['images']\n",
        "val_image_paths = [get_full_path(item['image_path']) for item in polyp_val]\n",
        "print(f'{len(val_image_paths)} val images.')\n",
        "\n",
        "# Get real image paths for testing\n",
        "polyp_test = load_json(TEST_JSON)['images']\n",
        "test_image_paths = [get_full_path(item['image_path']) for item in polyp_test]\n",
        "print(f'{len(test_image_paths)} test images.')\n",
        "\n",
        "test_image_paths[0]"
      ]
    },
    {
      "cell_type": "code",
      "execution_count": null,
      "metadata": {
        "id": "IlXQyX2nPN8r"
      },
      "outputs": [],
      "source": [
        "sample_gen_image_paths = random.sample(gen_image_paths, 50)"
      ]
    },
    {
      "cell_type": "code",
      "execution_count": null,
      "metadata": {
        "colab": {
          "background_save": true
        },
        "id": "fm6oB4BIPduI",
        "outputId": "a8b01741-9f90-4087-8876-3adacab6f80b"
      },
      "outputs": [],
      "source": [
        "# Function to normalize images to the [0, 1] range\n",
        "def normalize_image(image):\n",
        "    if image.dtype == np.uint8:\n",
        "        return image / 255.0\n",
        "    elif image.dtype in [np.float32, np.float64]:\n",
        "        return np.clip(image, 0, 1)\n",
        "    else:\n",
        "        raise ValueError(f\"Unsupported image dtype: {image.dtype}\")\n",
        "\n",
        "# Function to overlay mask on image\n",
        "def overlay_mask(image, mask, alpha=0.4):\n",
        "    # Ensure image and mask have the same shape\n",
        "    if image.shape[:2] != mask.shape[:2]:\n",
        "        raise ValueError(\"Image and mask must have the same dimensions\")\n",
        "\n",
        "    # Remove the last channel of the generate image\n",
        "    if image.shape[-1] > 3:\n",
        "        image = image[...,:3]\n",
        "\n",
        "    # Convert mask to 3-channel if it is single-channel\n",
        "    if mask.ndim == 2:\n",
        "        mask = np.stack((mask, mask, mask), axis=-1)\n",
        "\n",
        "    # Normalize mask to be in the range [0, 1]\n",
        "    mask = normalize_image(mask)\n",
        "\n",
        "    # Overlay mask on the image\n",
        "    overlay = ((1 - alpha) * image) + (alpha * mask)\n",
        "\n",
        "    return overlay\n",
        "\n",
        "# Plotting the images and masks\n",
        "fig, axs = plt.subplots(5, 10, figsize=(40, 20))\n",
        "\n",
        "for i, img_path in enumerate(sample_gen_image_paths):\n",
        "    mask_path = convert_to_mask_path(img_path)\n",
        "    image = mpimg.imread(img_path)\n",
        "    mask = mpimg.imread(mask_path)\n",
        "\n",
        "    # Normalize image\n",
        "    image = normalize_image(image)\n",
        "\n",
        "    # Check if the mask is single channel, if not convert to grayscale\n",
        "    if mask.ndim == 3:\n",
        "        mask = np.mean(mask, axis=2)\n",
        "\n",
        "    overlayed_image = overlay_mask(image, mask)\n",
        "\n",
        "    ax = axs[i // 10, i % 10]\n",
        "    ax.imshow(overlayed_image)\n",
        "    ax.axis('off')\n",
        "    ax.set_title(os.path.basename(img_path))\n",
        "\n",
        "plt.tight_layout()\n",
        "plt.show()\n",
        "fig.savefig('./gen_image_with_mask.jpeg', format='jpeg')"
      ]
    },
    {
      "cell_type": "code",
      "execution_count": null,
      "metadata": {
        "id": "mBzmeOT6QNsf"
      },
      "outputs": [],
      "source": []
    }
  ],
  "metadata": {
    "colab": {
      "provenance": []
    },
    "kernelspec": {
      "display_name": "Python 3",
      "name": "python3"
    },
    "language_info": {
      "name": "python"
    }
  },
  "nbformat": 4,
  "nbformat_minor": 0
}